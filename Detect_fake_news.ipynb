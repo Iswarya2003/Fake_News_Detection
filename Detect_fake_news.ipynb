{
  "nbformat": 4,
  "nbformat_minor": 0,
  "metadata": {
    "colab": {
      "name": "Detect_fake_news.ipynb",
      "provenance": [],
      "collapsed_sections": [
        "UWmlu7vLNci8",
        "__oHx6tVNgLF",
        "v0k8oQ1qNjIz"
      ],
      "include_colab_link": true
    },
    "kernelspec": {
      "name": "python3",
      "display_name": "Python 3"
    },
    "accelerator": "GPU"
  },
  "cells": [
    {
      "cell_type": "markdown",
      "metadata": {
        "id": "view-in-github",
        "colab_type": "text"
      },
      "source": [
        "<a href=\"https://colab.research.google.com/github/Iswarya2003/Fake_News_Detection/blob/main/Detect_fake_news.ipynb\" target=\"_parent\"><img src=\"https://colab.research.google.com/assets/colab-badge.svg\" alt=\"Open In Colab\"/></a>"
      ]
    },
    {
      "cell_type": "code",
      "metadata": {
        "id": "Y1iG3ytm1cp7"
      },
      "source": [
        "import pandas as pd\n",
        "import numpy as np\n",
        "import matplotlib.pyplot as plt\n",
        "import seaborn as sns\n",
        "\n",
        "from google.colab import drive"
      ],
      "execution_count": null,
      "outputs": []
    },
    {
      "cell_type": "code",
      "metadata": {
        "id": "rcckN4KZTsF6",
        "colab": {
          "base_uri": "https://localhost:8080/",
          "height": 127
        },
        "outputId": "0ba0c0cf-063d-4c06-db5d-4fb0809bd043"
      },
      "source": [
        "drive.mount(\"/content/drive\")"
      ],
      "execution_count": null,
      "outputs": [
        {
          "output_type": "stream",
          "text": [
            "Go to this URL in a browser: https://accounts.google.com/o/oauth2/auth?client_id=947318989803-6bn6qk8qdgf4n4g3pfee6491hc0brc4i.apps.googleusercontent.com&redirect_uri=urn%3aietf%3awg%3aoauth%3a2.0%3aoob&response_type=code&scope=email%20https%3a%2f%2fwww.googleapis.com%2fauth%2fdocs.test%20https%3a%2f%2fwww.googleapis.com%2fauth%2fdrive%20https%3a%2f%2fwww.googleapis.com%2fauth%2fdrive.photos.readonly%20https%3a%2f%2fwww.googleapis.com%2fauth%2fpeopleapi.readonly\n",
            "\n",
            "Enter your authorization code:\n",
            "··········\n",
            "Mounted at /content/drive\n"
          ],
          "name": "stdout"
        }
      ]
    },
    {
      "cell_type": "code",
      "metadata": {
        "id": "Pw936kgR1lBA"
      },
      "source": [
        "import urllib\n",
        "import json\n",
        "\n",
        "def load_convert_data(url):\n",
        "    \"\"\"\n",
        "    Downloads the json file from net and convert into pandas dataframe format.\n",
        "    \"\"\"\n",
        "    with urllib.request.urlopen(url) as url:\n",
        "        df = json.loads(url.read().decode())\n",
        "        df = pd.DataFrame.from_dict(df)\n",
        "        \n",
        "    return df"
      ],
      "execution_count": null,
      "outputs": []
    },
    {
      "cell_type": "code",
      "metadata": {
        "id": "x8e6DJmR1sKO"
      },
      "source": [
        "# Real news data\n",
        "real_train = load_convert_data(\"https://storage.googleapis.com/public-resources/dataset/real_train.json\")\n",
        "real_test = load_convert_data(\"https://storage.googleapis.com/public-resources/dataset/real_test.json\")"
      ],
      "execution_count": null,
      "outputs": []
    },
    {
      "cell_type": "code",
      "metadata": {
        "id": "XJKrxEsAIUJX"
      },
      "source": [
        "# Fake news data\n",
        "fake_train = load_convert_data(\"https://storage.googleapis.com/public-resources/dataset/fake_train.json\")\n",
        "fake_test = load_convert_data(\"https://storage.googleapis.com/public-resources/dataset/fake_test.json\")"
      ],
      "execution_count": null,
      "outputs": []
    },
    {
      "cell_type": "code",
      "metadata": {
        "id": "U9HRiMCz1uCP",
        "colab": {
          "base_uri": "https://localhost:8080/",
          "height": 289
        },
        "outputId": "effbbcdf-706b-4631-d97a-f3b0c839fbbe"
      },
      "source": [
        "# quick look on real news training data\n",
        "real_train.head()"
      ],
      "execution_count": null,
      "outputs": [
        {
          "output_type": "execute_result",
          "data": {
            "text/html": [
              "<div>\n",
              "<style scoped>\n",
              "    .dataframe tbody tr th:only-of-type {\n",
              "        vertical-align: middle;\n",
              "    }\n",
              "\n",
              "    .dataframe tbody tr th {\n",
              "        vertical-align: top;\n",
              "    }\n",
              "\n",
              "    .dataframe thead th {\n",
              "        text-align: right;\n",
              "    }\n",
              "</style>\n",
              "<table border=\"1\" class=\"dataframe\">\n",
              "  <thead>\n",
              "    <tr style=\"text-align: right;\">\n",
              "      <th></th>\n",
              "      <th>url</th>\n",
              "      <th>title</th>\n",
              "      <th>text</th>\n",
              "    </tr>\n",
              "  </thead>\n",
              "  <tbody>\n",
              "    <tr>\n",
              "      <th>0</th>\n",
              "      <td>https://www.thetimes.co.uk/edition/scotland/sc...</td>\n",
              "      <td>Scots GPs told not to meet fever patients as f...</td>\n",
              "      <td>Scots GPs told not to meet fever patients as f...</td>\n",
              "    </tr>\n",
              "    <tr>\n",
              "      <th>1</th>\n",
              "      <td>https://www.bbc.com/news/world-africa-52103799</td>\n",
              "      <td>Coronavirus : Fighting al - Shabab propaganda ...</td>\n",
              "      <td>Coronavirus: Fighting al-Shabab propaganda in ...</td>\n",
              "    </tr>\n",
              "    <tr>\n",
              "      <th>2</th>\n",
              "      <td>https://www.thetimes.co.uk/edition/business/en...</td>\n",
              "      <td>Engineer fears China virus impact</td>\n",
              "      <td>Engineer fears China virus impact\\nA British e...</td>\n",
              "    </tr>\n",
              "    <tr>\n",
              "      <th>3</th>\n",
              "      <td>https://www.theguardian.com/world/live/2020/fe...</td>\n",
              "      <td>Coronavirus : South Korean PM vows  swift  act...</td>\n",
              "      <td>Here’s a summary of what’s happened so far on ...</td>\n",
              "    </tr>\n",
              "    <tr>\n",
              "      <th>4</th>\n",
              "      <td>https://yle.fi/uutiset/osasto/news/finnair_iss...</td>\n",
              "      <td>Finnair issues profit warning over Covid - 19 ...</td>\n",
              "      <td>Finnair issues profit warning over Covid-19 fe...</td>\n",
              "    </tr>\n",
              "  </tbody>\n",
              "</table>\n",
              "</div>"
            ],
            "text/plain": [
              "                                                 url  ...                                               text\n",
              "0  https://www.thetimes.co.uk/edition/scotland/sc...  ...  Scots GPs told not to meet fever patients as f...\n",
              "1     https://www.bbc.com/news/world-africa-52103799  ...  Coronavirus: Fighting al-Shabab propaganda in ...\n",
              "2  https://www.thetimes.co.uk/edition/business/en...  ...  Engineer fears China virus impact\\nA British e...\n",
              "3  https://www.theguardian.com/world/live/2020/fe...  ...  Here’s a summary of what’s happened so far on ...\n",
              "4  https://yle.fi/uutiset/osasto/news/finnair_iss...  ...  Finnair issues profit warning over Covid-19 fe...\n",
              "\n",
              "[5 rows x 3 columns]"
            ]
          },
          "metadata": {
            "tags": []
          },
          "execution_count": 6
        }
      ]
    },
    {
      "cell_type": "code",
      "metadata": {
        "id": "RzrNj4A91v6R",
        "colab": {
          "base_uri": "https://localhost:8080/",
          "height": 341
        },
        "outputId": "1b164c84-6d6f-4a11-f36c-ff8286df8cf0"
      },
      "source": [
        "# Quick look on Fake news training data\n",
        "fake_train.head()"
      ],
      "execution_count": null,
      "outputs": [
        {
          "output_type": "execute_result",
          "data": {
            "text/html": [
              "<div>\n",
              "<style scoped>\n",
              "    .dataframe tbody tr th:only-of-type {\n",
              "        vertical-align: middle;\n",
              "    }\n",
              "\n",
              "    .dataframe tbody tr th {\n",
              "        vertical-align: top;\n",
              "    }\n",
              "\n",
              "    .dataframe thead th {\n",
              "        text-align: right;\n",
              "    }\n",
              "</style>\n",
              "<table border=\"1\" class=\"dataframe\">\n",
              "  <thead>\n",
              "    <tr style=\"text-align: right;\">\n",
              "      <th></th>\n",
              "      <th>url</th>\n",
              "      <th>title</th>\n",
              "      <th>text</th>\n",
              "      <th>label</th>\n",
              "    </tr>\n",
              "  </thead>\n",
              "  <tbody>\n",
              "    <tr>\n",
              "      <th>0</th>\n",
              "      <td>https://nabd.com/s/71539812-b7228b/%D9%86%D8%B...</td>\n",
              "      <td>Online Facts New conspiracy theory: #Bel_Gates...</td>\n",
              "      <td>Roger Stone suggested on Monday that Bill Gate...</td>\n",
              "      <td>1</td>\n",
              "    </tr>\n",
              "    <tr>\n",
              "      <th>1</th>\n",
              "      <td>https://shamra.sy/news/article/8eb73454931e6d1...</td>\n",
              "      <td>Revolutionary Guards: Corona could be an Ameri...</td>\n",
              "      <td>Source\\nRussia Today |\\nIranian Revolutionary ...</td>\n",
              "      <td>1</td>\n",
              "    </tr>\n",
              "    <tr>\n",
              "      <th>2</th>\n",
              "      <td>https://sudanewsnow.com/19800/</td>\n",
              "      <td>Yellow skin is the host environment of the vir...</td>\n",
              "      <td>Sudan news now from all sources sudanewsnow.co...</td>\n",
              "      <td>1</td>\n",
              "    </tr>\n",
              "    <tr>\n",
              "      <th>3</th>\n",
              "      <td>https://arabic.rt.com/press/1100276-%D8%A7%D9%...</td>\n",
              "      <td>China and Russia are doing what the European U...</td>\n",
              "      <td>China and Russia are doing what the European U...</td>\n",
              "      <td>1</td>\n",
              "    </tr>\n",
              "    <tr>\n",
              "      <th>4</th>\n",
              "      <td>https://www.kachaf.com/details.php?n=5e8957fe1...</td>\n",
              "      <td></td>\n",
              "      <td>Fatal error: Uncaught MongoDB\\Driver\\Exception...</td>\n",
              "      <td>1</td>\n",
              "    </tr>\n",
              "  </tbody>\n",
              "</table>\n",
              "</div>"
            ],
            "text/plain": [
              "                                                 url  ... label\n",
              "0  https://nabd.com/s/71539812-b7228b/%D9%86%D8%B...  ...     1\n",
              "1  https://shamra.sy/news/article/8eb73454931e6d1...  ...     1\n",
              "2                     https://sudanewsnow.com/19800/  ...     1\n",
              "3  https://arabic.rt.com/press/1100276-%D8%A7%D9%...  ...     1\n",
              "4  https://www.kachaf.com/details.php?n=5e8957fe1...  ...     1\n",
              "\n",
              "[5 rows x 4 columns]"
            ]
          },
          "metadata": {
            "tags": []
          },
          "execution_count": 11
        }
      ]
    },
    {
      "cell_type": "code",
      "metadata": {
        "id": "9uvfUt2B1zMf"
      },
      "source": [
        "real_train['label'] = 0\n",
        "real_test['label'] = 0\n",
        "fake_train['label'] = 1\n",
        "fake_test['label'] = 1\n",
        "\n",
        "train = pd.concat([real_train, fake_train], ignore_index=True)\n",
        "test = pd.concat([real_test, fake_test], ignore_index=True)"
      ],
      "execution_count": null,
      "outputs": []
    },
    {
      "cell_type": "code",
      "metadata": {
        "id": "hJeFo9yX10HE"
      },
      "source": [
        "import re\n",
        "def clean_txt(text):\n",
        "    text = re.sub(\"'\", \"\", text)\n",
        "    text = re.sub(\"(\\\\W)+\", \" \", text)\n",
        "    text = text.lower()\n",
        "    return text\n",
        "\n",
        "train['text'] = train['text'].apply(clean_txt)\n",
        "test['text'] = test['text'].apply(clean_txt)"
      ],
      "execution_count": null,
      "outputs": []
    },
    {
      "cell_type": "code",
      "metadata": {
        "id": "AL7UpLSc4mAf"
      },
      "source": [
        "from sklearn.model_selection import train_test_split\n",
        "train, val = train_test_split(train, test_size=0.2, random_state=35)"
      ],
      "execution_count": null,
      "outputs": []
    },
    {
      "cell_type": "code",
      "metadata": {
        "id": "wL_OwrN13z_0"
      },
      "source": [
        "def get_split(text):\n",
        "    \"\"\"\n",
        "    Split each news text to subtexts no longer than 150 words.\n",
        "    \"\"\"\n",
        "    l_total = []\n",
        "    l_parcial = []\n",
        "    if len(text.split())//120 >0:\n",
        "        n = len(text.split())//120\n",
        "    else: \n",
        "        n = 1\n",
        "    for w in range(n):\n",
        "        if w == 0:\n",
        "            l_parcial = text.split()[:150]\n",
        "            l_total.append(\" \".join(l_parcial))\n",
        "        else:\n",
        "            l_parcial = text.split()[w*120:w*120 + 150]\n",
        "            l_total.append(\" \".join(l_parcial))\n",
        "    return l_total\n",
        "\n",
        "train['text_split'] = train['text'].apply(get_split)\n",
        "val['text_split'] = val['text'].apply(get_split)\n",
        "test['text_split'] = test['text'].apply(get_split)"
      ],
      "execution_count": null,
      "outputs": []
    },
    {
      "cell_type": "code",
      "metadata": {
        "id": "zbDzR8OZ4DCM",
        "colab": {
          "base_uri": "https://localhost:8080/",
          "height": 188
        },
        "outputId": "f1c66fd0-332c-468c-d609-7bf74892dfa9"
      },
      "source": [
        "train['text_split'][1]"
      ],
      "execution_count": null,
      "outputs": [
        {
          "output_type": "execute_result",
          "data": {
            "text/plain": [
              "['coronavirus fighting al shabab propaganda in somalia muslim clerics in conflict hit somalia are moving to the front line of the battle against coronavirus in a bid to counter the propaganda of militant islamists writes bbc somalia analyst mary harper the al qaeda linked al shabab group has warned muslims to beware of infectious diseases such as coronavirus which it says are spread by the crusader forces who have invaded the country and the disbelieving countries that support them the militants control much of southern and central somalia and have been a powerful force for well over a decade although there have only been a handful of confirmed cases of coronavirus in somalia so far the authorities are deeply worried that if the disease takes hold they will be unable to cope koranic schools shut about 30 years of conflict have devastated health facilities hundreds of thousands of displaced people',\n",
              " 'that if the disease takes hold they will be unable to cope koranic schools shut about 30 years of conflict have devastated health facilities hundreds of thousands of displaced people are crowded into camps with limited access to soap and water and no way of practising social distancing the message from al shabab only adds to the governments concerns especially as it could oppose medical help from international aid agencies just as it resisted most food aid during the 2010 2012 famine when more than 250 000 people were estimated to have died 12 3 millionpopulation 6 3 millionat risk of hunger 3 1 millionneed health assistance 2 7 millionneed water and sanitation support 2 6 millionhomeless because of instability somalias mainstream muslim clerics have now decided to fight back koranic schools known as madrassas which nearly every child in somalia attends have been closed to help stop the spread',\n",
              " 'somalias mainstream muslim clerics have now decided to fight back koranic schools known as madrassas which nearly every child in somalia attends have been closed to help stop the spread of the virus the ministries of religious affairs health and information have been working with muslim leaders to transform teachers and mosque imams into what has been dubbed as an anti corona army they will stand with loudspeakers at every crossroads every gathering place to spread the word on how to prevent the spread of covid 19 says koshin abdi hashi deputy co ordinator for the prevention and countering of violent extremism in the office of the prime minister they will drive around in vehicles mounted with loudspeakers and transmit messages from the minarets of mosques he adds mohamed ali ibrahim a university professor and senior adviser in the ministry of religious affairs says the messages will include religious elements',\n",
              " 'messages from the minarets of mosques he adds mohamed ali ibrahim a university professor and senior adviser in the ministry of religious affairs says the messages will include religious elements we will talk about hand washing and social distancing but also speak of how islam encourages cleanliness including ablutions before prayers and how there were dangerous diseases at the time of the prophet muhammad islamic teachings on hygiene cleanliness is half of faith wash hands before and after eating wash hands after going to the toilet wash hands face and feet before each of the five daily prayers bathe before main weekly prayer on fridays wash a person after death some clerics say it is fine if this cannot be done in current circumstances the anti corona army will monitor people making sure they wash their hands thoroughly and regularly with soap and water and maintain a safe distance from',\n",
              " 'done in current circumstances the anti corona army will monitor people making sure they wash their hands thoroughly and regularly with soap and water and maintain a safe distance from one another given that so many somalis live in overcrowded camps and other dwellings this will not always be possible hand washing facilities have been set up in some of the camps but as mr hashi says social distancing is an abstract issue some believe covid 19 is a divine punishment imposed on china for its treatment of the muslim uighurs osman aden dubow deputy minister of religious affairs says we have to use the sheikhs religious leaders and koranic teachers to fight this disease as they are the most respected community in somalia people trust them more than anybody else and will not only listen to what they say but follow their instructions however the religious community is going',\n",
              " 'respected community in somalia people trust them more than anybody else and will not only listen to what they say but follow their instructions however the religious community is going to have a hard time combating some of the coronavirus myths taking hold in somalia some believe covid 19 is a divine punishment imposed on china for its treatment of the muslim uighurs now that it has taken hold in the us some say americans are being punished because they oppress muslims others simply believe that if one is a good muslim one cannot catch the disease more on africa and the virus live tracker coronavirus in africa zimbabwean broadcaster died alone and scared the ethiopian leading the fight against the coronavirus ghana mourns mass funeral ban the fake coronavirus stories spreading in africa somalias most senior sheikh ali dheere is adamant that the involvement of the religious community will',\n",
              " 'the coronavirus ghana mourns mass funeral ban the fake coronavirus stories spreading in africa somalias most senior sheikh ali dheere is adamant that the involvement of the religious community will help bust myths and encourage somalis to do the right thing he says that even though most somalis are observant muslims they will understand that life cannot continue as usual they have been encouraged to pray at home and either not attend burials or to maintain social distance during the funeral service in islam anything that causes harm is not permissible prayers have even been suspended at the holy mosques in mecca and medina sheikh dheere notes if a person dies from coronavirus and it is not safe to wash the body our religion allows someone to be buried without being washed he adds ceasefire plea there are fears that al shabab will try to exploit some of the religious',\n",
              " 'the body our religion allows someone to be buried without being washed he adds ceasefire plea there are fears that al shabab will try to exploit some of the religious leaders initiatives for their own advantage for example they could attack the decision to close koranic schools or adapt religious practices they could step up their campaign to blame infidel foreign lands for bringing the virus to somalia as those initially infected with covid 19 came from abroad however some believe al shabab might lose support if coronavirus takes hold in the regions it controls as it has even more basic health facilities than those in many government controlled areas un secretary general antónio guterres has called for a global ceasefire in the face of the pandemic the warring parties in yemen have agreed to stop fighting separatists in mainly english speaking cameroon have declared a temporary ceasefire but diplomats',\n",
              " 'ceasefire in the face of the pandemic the warring parties in yemen have agreed to stop fighting separatists in mainly english speaking cameroon have declared a temporary ceasefire but diplomats doubt that al shabab will lay down its arms as the group has continued to carry out attacks since the world health organization who declared coronavirus a global pandemic but there is hope that the outbreak could open the door to negotiations in order to prevent mass deaths low level discussions have previously taken place during humanitarian crises to enable the delivery of some food aid and other assistance optimists believe similar talks to help contain the spread of the virus could take place and develop into more substantial negotiations perhaps eventually leading to compromise and an end to the long years of conflict a simple guide how do i protect myself avoiding contact the rules on self isolation and']"
            ]
          },
          "metadata": {
            "tags": []
          },
          "execution_count": 38
        }
      ]
    },
    {
      "cell_type": "code",
      "metadata": {
        "id": "dgyf2eAB68vC",
        "colab": {
          "base_uri": "https://localhost:8080/",
          "height": 71
        },
        "outputId": "416fd6a4-97b7-44fa-f05e-238c79ec456e"
      },
      "source": [
        "def data_augumentation(df, df_name):\n",
        "    \"\"\"\n",
        "    Create a new dataframe from the original one because now one text may contain multiple subtexts of length 200. \n",
        "    Text correspond to subtexts from original text, while index correspond to its index of original set.\n",
        "    \"\"\"\n",
        "    text_l = []\n",
        "    label_l = []\n",
        "    index_l = []\n",
        "    for idx,row in df.iterrows():\n",
        "      for l in row['text_split']:\n",
        "        text_l.append(l)\n",
        "        label_l.append(row['label'])\n",
        "        index_l.append(idx)\n",
        "    new_df = pd.DataFrame({'text':text_l, 'label':label_l, 'index':index_l})\n",
        "    print(\"The \" + df_name +\" set now has \" + str(len(new_df)) + ' subtexts extracted from ' + str(len(df)) + ' texts.')\n",
        "    return new_df\n",
        "\n",
        "train_df = data_augumentation(train, df_name = 'training')\n",
        "val_df = data_augumentation(val, df_name  = 'validation')\n",
        "test_df = data_augumentation(test, df_name = 'testing')"
      ],
      "execution_count": null,
      "outputs": [
        {
          "output_type": "stream",
          "text": [
            "The training set now has 5621 subtexts extracted from 1280 texts.\n",
            "The validation set now has 1305 subtexts extracted from 320 texts.\n",
            "The testing set now has 1568 subtexts extracted from 400 texts.\n"
          ],
          "name": "stdout"
        }
      ]
    },
    {
      "cell_type": "code",
      "metadata": {
        "id": "JHr2f7HkglsN",
        "colab": {
          "base_uri": "https://localhost:8080/",
          "height": 433
        },
        "outputId": "33814369-f1ce-4fec-a683-2f92cdec28c0"
      },
      "source": [
        "!pip install bert-for-tf2\n",
        "import math \n",
        "import os\n",
        "from tqdm import tqdm\n",
        "import tensorflow as tf\n",
        "from tensorflow import keras\n",
        "import bert\n",
        "from bert import BertModelLayer\n",
        "from bert.loader import StockBertConfig, map_stock_config_to_params, load_stock_weights\n",
        "from bert.tokenization.bert_tokenization import FullTokenizer"
      ],
      "execution_count": null,
      "outputs": [
        {
          "output_type": "stream",
          "text": [
            "Collecting bert-for-tf2\n",
            "\u001b[?25l  Downloading https://files.pythonhosted.org/packages/35/5c/6439134ecd17b33fe0396fb0b7d6ce3c5a120c42a4516ba0e9a2d6e43b25/bert-for-tf2-0.14.4.tar.gz (40kB)\n",
            "\r\u001b[K     |████████                        | 10kB 26.7MB/s eta 0:00:01\r\u001b[K     |████████████████▏               | 20kB 6.9MB/s eta 0:00:01\r\u001b[K     |████████████████████████▎       | 30kB 7.8MB/s eta 0:00:01\r\u001b[K     |████████████████████████████████| 40kB 3.9MB/s \n",
            "\u001b[?25hCollecting py-params>=0.9.6\n",
            "  Downloading https://files.pythonhosted.org/packages/a4/bf/c1c70d5315a8677310ea10a41cfc41c5970d9b37c31f9c90d4ab98021fd1/py-params-0.9.7.tar.gz\n",
            "Collecting params-flow>=0.8.0\n",
            "  Downloading https://files.pythonhosted.org/packages/a9/95/ff49f5ebd501f142a6f0aaf42bcfd1c192dc54909d1d9eb84ab031d46056/params-flow-0.8.2.tar.gz\n",
            "Requirement already satisfied: numpy in /usr/local/lib/python3.6/dist-packages (from params-flow>=0.8.0->bert-for-tf2) (1.18.5)\n",
            "Requirement already satisfied: tqdm in /usr/local/lib/python3.6/dist-packages (from params-flow>=0.8.0->bert-for-tf2) (4.41.1)\n",
            "Building wheels for collected packages: bert-for-tf2, py-params, params-flow\n",
            "  Building wheel for bert-for-tf2 (setup.py) ... \u001b[?25l\u001b[?25hdone\n",
            "  Created wheel for bert-for-tf2: filename=bert_for_tf2-0.14.4-cp36-none-any.whl size=30114 sha256=96fcae4884cc8310cedef05af760d4fec8c71cef42b864365c753c52b505fb67\n",
            "  Stored in directory: /root/.cache/pip/wheels/cf/3f/4d/79d7735015a5f523648df90d871ce8e89a7df8185f7703eeab\n",
            "  Building wheel for py-params (setup.py) ... \u001b[?25l\u001b[?25hdone\n",
            "  Created wheel for py-params: filename=py_params-0.9.7-cp36-none-any.whl size=7302 sha256=84afbe4b48d5ecfdc45e32b65e761d742b19c79280a295cc4ec76ee6db2a5ce1\n",
            "  Stored in directory: /root/.cache/pip/wheels/67/f5/19/b461849a50aefdf4bab47c4756596e82ee2118b8278e5a1980\n",
            "  Building wheel for params-flow (setup.py) ... \u001b[?25l\u001b[?25hdone\n",
            "  Created wheel for params-flow: filename=params_flow-0.8.2-cp36-none-any.whl size=19473 sha256=d1dbc07378df7fa76be23129a2324910081694db977c1980414603d02a1b2add\n",
            "  Stored in directory: /root/.cache/pip/wheels/08/c8/7f/81c86b9ff2b86e2c477e3914175be03e679e596067dc630c06\n",
            "Successfully built bert-for-tf2 py-params params-flow\n",
            "Installing collected packages: py-params, params-flow, bert-for-tf2\n",
            "Successfully installed bert-for-tf2-0.14.4 params-flow-0.8.2 py-params-0.9.7\n"
          ],
          "name": "stdout"
        }
      ]
    },
    {
      "cell_type": "code",
      "metadata": {
        "id": "QBGl2JwxsFxs",
        "colab": {
          "base_uri": "https://localhost:8080/",
          "height": 613
        },
        "outputId": "41c9b988-c67c-4250-c097-af21847f664c"
      },
      "source": [
        "%%time\n",
        "\n",
        "bert_ckpt_dir=\"gs://bert_models/2018_10_18/uncased_L-12_H-768_A-12/\"\n",
        "bert_ckpt_file = bert_ckpt_dir + \"bert_model.ckpt\"\n",
        "bert_config_file = bert_ckpt_dir + \"bert_config.json\"\n",
        "\n",
        "bert_model_dir=\"2018_10_18\"\n",
        "bert_model_name=\"uncased_L-12_H-768_A-12\"\n",
        "\n",
        "!mkdir -p .model .model/$bert_model_name\n",
        "\n",
        "for fname in [\"bert_config.json\", \"vocab.txt\", \"bert_model.ckpt.meta\", \"bert_model.ckpt.index\", \"bert_model.ckpt.data-00000-of-00001\"]:\n",
        "  cmd = f\"gsutil cp gs://bert_models/{bert_model_dir}/{bert_model_name}/{fname} .model/{bert_model_name}\"\n",
        "  !$cmd\n",
        "\n",
        "!ls -la .model .model/$bert_model_name\n",
        "\n",
        "bert_ckpt_dir = os.path.join(\".model/\",bert_model_name)\n",
        "bert_ckpt_file = os.path.join(bert_ckpt_dir, \"bert_model.ckpt\")\n",
        "bert_config_file = os.path.join(bert_ckpt_dir, \"bert_config.json\")"
      ],
      "execution_count": null,
      "outputs": [
        {
          "output_type": "stream",
          "text": [
            "Copying gs://bert_models/2018_10_18/uncased_L-12_H-768_A-12/bert_config.json...\n",
            "/ [1 files][  313.0 B/  313.0 B]                                                \n",
            "Operation completed over 1 objects/313.0 B.                                      \n",
            "Copying gs://bert_models/2018_10_18/uncased_L-12_H-768_A-12/vocab.txt...\n",
            "/ [1 files][226.1 KiB/226.1 KiB]                                                \n",
            "Operation completed over 1 objects/226.1 KiB.                                    \n",
            "Copying gs://bert_models/2018_10_18/uncased_L-12_H-768_A-12/bert_model.ckpt.meta...\n",
            "/ [1 files][883.0 KiB/883.0 KiB]                                                \n",
            "Operation completed over 1 objects/883.0 KiB.                                    \n",
            "Copying gs://bert_models/2018_10_18/uncased_L-12_H-768_A-12/bert_model.ckpt.index...\n",
            "/ [1 files][  8.3 KiB/  8.3 KiB]                                                \n",
            "Operation completed over 1 objects/8.3 KiB.                                      \n",
            "Copying gs://bert_models/2018_10_18/uncased_L-12_H-768_A-12/bert_model.ckpt.data-00000-of-00001...\n",
            "- [1 files][420.0 MiB/420.0 MiB]                                                \n",
            "Operation completed over 1 objects/420.0 MiB.                                    \n",
            ".model:\n",
            "total 12\n",
            "drwxr-xr-x 3 root root 4096 Jul 12 23:20 .\n",
            "drwxr-xr-x 1 root root 4096 Jul 12 23:20 ..\n",
            "drwxr-xr-x 2 root root 4096 Jul 12 23:23 uncased_L-12_H-768_A-12\n",
            "\n",
            ".model/uncased_L-12_H-768_A-12:\n",
            "total 431244\n",
            "drwxr-xr-x 2 root root      4096 Jul 12 23:23 .\n",
            "drwxr-xr-x 3 root root      4096 Jul 12 23:20 ..\n",
            "-rw-r--r-- 1 root root       313 Jul 12 23:22 bert_config.json\n",
            "-rw-r--r-- 1 root root 440425712 Jul 12 23:23 bert_model.ckpt.data-00000-of-00001\n",
            "-rw-r--r-- 1 root root      8528 Jul 12 23:22 bert_model.ckpt.index\n",
            "-rw-r--r-- 1 root root    904243 Jul 12 23:22 bert_model.ckpt.meta\n",
            "-rw-r--r-- 1 root root    231508 Jul 12 23:22 vocab.txt\n",
            "CPU times: user 105 ms, sys: 63.1 ms, total: 168 ms\n",
            "Wall time: 22.6 s\n"
          ],
          "name": "stdout"
        }
      ]
    },
    {
      "cell_type": "code",
      "metadata": {
        "id": "DINfIvPoqIj8"
      },
      "source": [
        "class FakeNewsData:\n",
        "    \"\"\"\n",
        "    Preprocessing text into BERT features.\n",
        "\n",
        "    max_seq_len: Maximum sequence length specified\n",
        "    tokenizer: BERT tokenizer\n",
        "    \"\"\"\n",
        "    DATA_COLUMN = \"text\"\n",
        "    LABEL_COLUMN = \"label\"\n",
        "\n",
        "    def __init__(self, tokenizer, train, validation, test, max_seq_len = 150):\n",
        "        self.tokenizer = tokenizer\n",
        "        self.max_seq_len = max_seq_len\n",
        "        ((self.train_x, self.train_y),\n",
        "         (self.val_x, self.val_y),\n",
        "         (self.test_x, self.test_y)) = map(self._prepare, [train, validation, test])\n",
        "\n",
        "        ((self.train_x, self.train_x_token_types),\n",
        "         (self.val_x, self.val_x_token_types),\n",
        "         (self.test_x, self.test_x_token_types)) = map(self._pad, \n",
        "                                                       [self.train_x, self.val_x, self.test_x])\n",
        "\n",
        "    def _prepare(self, df):\n",
        "        \"\"\"\n",
        "        Add start and end token for each sequence, and convert the text to tokenids.\n",
        "        \"\"\"\n",
        "        x, y = [], []\n",
        "        with tqdm(total=df.shape[0], unit_scale=True) as pbar:\n",
        "            for ndx, row in df.iterrows():\n",
        "                text, label = row[FakeNewsData.DATA_COLUMN], row[FakeNewsData.LABEL_COLUMN]\n",
        "                tokens = self.tokenizer.tokenize(text)\n",
        "                tokens = [\"[CLS]\"] + tokens + [\"[SEP]\"]\n",
        "                token_ids = self.tokenizer.convert_tokens_to_ids(tokens)\n",
        "                self.max_seq_len = max(self.max_seq_len, len(token_ids))\n",
        "                x.append(token_ids)\n",
        "                y.append(int(label))\n",
        "                pbar.update()\n",
        "        return np.array(x), np.array(y)\n",
        "\n",
        "    def _pad(self, ids):\n",
        "        \"\"\"\n",
        "        Pad each sequence to the specified max sequence length with [0]\n",
        "        \"\"\"\n",
        "        x, t = [], []\n",
        "        token_type_ids = [0] * self.max_seq_len\n",
        "        for input_ids in ids:\n",
        "            input_ids = input_ids[:min(len(input_ids), self.max_seq_len - 2)]\n",
        "            input_ids = input_ids + [0] * (self.max_seq_len - len(input_ids))\n",
        "            x.append(np.array(input_ids))\n",
        "            t.append(token_type_ids)\n",
        "        return np.array(x), np.array(t)"
      ],
      "execution_count": null,
      "outputs": []
    },
    {
      "cell_type": "code",
      "metadata": {
        "id": "oPz41H-zs-XN",
        "colab": {
          "base_uri": "https://localhost:8080/",
          "height": 107
        },
        "outputId": "dc8e8ba8-3ea0-407e-dcb7-64982f463903"
      },
      "source": [
        "%%time\n",
        "tokenizer = FullTokenizer(vocab_file=os.path.join(bert_ckpt_dir, \"vocab.txt\"))\n",
        "data = FakeNewsData(tokenizer, \n",
        "                    train = train_df,\n",
        "                    validation = val_df,\n",
        "                    test = test_df,\n",
        "                    max_seq_len= 150)"
      ],
      "execution_count": null,
      "outputs": [
        {
          "output_type": "stream",
          "text": [
            "100%|██████████| 5.62k/5.62k [00:13<00:00, 418it/s]\n",
            "100%|██████████| 1.30k/1.30k [00:03<00:00, 421it/s]\n",
            "100%|██████████| 1.57k/1.57k [00:03<00:00, 418it/s]\n"
          ],
          "name": "stderr"
        },
        {
          "output_type": "stream",
          "text": [
            "CPU times: user 20.8 s, sys: 110 ms, total: 20.9 s\n",
            "Wall time: 20.9 s\n"
          ],
          "name": "stdout"
        }
      ]
    },
    {
      "cell_type": "code",
      "metadata": {
        "id": "z4aROQl7u8j0",
        "colab": {
          "base_uri": "https://localhost:8080/",
          "height": 595
        },
        "outputId": "a9031502-ca61-4479-f2e6-48c021ef0bb5"
      },
      "source": [
        "def create_model(max_seq_len,lr = 1e-5):\n",
        "  \"\"\"\n",
        "  Creates a BERT classification model. \n",
        "  The model architecutre is raw input -> BERT input -> drop out layer to prevent overfitting -> dense layer that outputs predicted probability.\n",
        "\n",
        "  max_seq_len: the maximum sequence length\n",
        "  lr: learning rate of optimizer\n",
        "  \"\"\"\n",
        "\n",
        "\n",
        "  # create the bert layer\n",
        "  with tf.io.gfile.GFile(bert_config_file, \"r\") as reader:\n",
        "      bc = StockBertConfig.from_json_string(reader.read())\n",
        "      bert_params = map_stock_config_to_params(bc)\n",
        "      bert = BertModelLayer.from_params(bert_params, name=\"bert\")\n",
        "        \n",
        "  input_ids = keras.layers.Input(shape=(max_seq_len,), dtype='int32', name=\"input_ids\")\n",
        "  output = bert(input_ids)\n",
        "\n",
        "  print(\"bert shape\", output.shape)\n",
        "  cls_out = keras.layers.Lambda(lambda seq: seq[:, 0, :])(output)\n",
        "  # Dropout layer\n",
        "  cls_out = keras.layers.Dropout(0.8)(cls_out)\n",
        "  # Dense layer with probibility output\n",
        "  logits = keras.layers.Dense(units=2, activation=\"softmax\")(cls_out)\n",
        "\n",
        "  model = keras.Model(inputs=input_ids, outputs=logits)\n",
        "  model.build(input_shape=(None, max_seq_len))\n",
        "\n",
        "  # load the pre-trained model weights\n",
        "  load_stock_weights(bert, bert_ckpt_file)\n",
        "\n",
        "  model.compile(optimizer=keras.optimizers.Adam(learning_rate = lr),\n",
        "                loss=keras.losses.SparseCategoricalCrossentropy(from_logits=True),\n",
        "                metrics=[keras.metrics.SparseCategoricalAccuracy(name=\"acc\")])\n",
        "\n",
        "  model.summary()\n",
        "        \n",
        "  return model\n",
        "\n",
        "model = create_model(max_seq_len = data.max_seq_len, lr = 1e-5)"
      ],
      "execution_count": null,
      "outputs": [
        {
          "output_type": "stream",
          "text": [
            "bert shape (None, 319, 768)\n",
            "Done loading 196 BERT weights from: .model/uncased_L-12_H-768_A-12/bert_model.ckpt into <bert.model.BertModelLayer object at 0x7f6e8adc0630> (prefix:bert). Count of weights not found in the checkpoint was: [0]. Count of weights with mismatched shape: [0]\n",
            "Unused weights from checkpoint: \n",
            "\tbert/embeddings/token_type_embeddings\n",
            "\tbert/pooler/dense/bias\n",
            "\tbert/pooler/dense/kernel\n",
            "\tcls/predictions/output_bias\n",
            "\tcls/predictions/transform/LayerNorm/beta\n",
            "\tcls/predictions/transform/LayerNorm/gamma\n",
            "\tcls/predictions/transform/dense/bias\n",
            "\tcls/predictions/transform/dense/kernel\n",
            "\tcls/seq_relationship/output_bias\n",
            "\tcls/seq_relationship/output_weights\n",
            "Model: \"model\"\n",
            "_________________________________________________________________\n",
            "Layer (type)                 Output Shape              Param #   \n",
            "=================================================================\n",
            "input_ids (InputLayer)       [(None, 319)]             0         \n",
            "_________________________________________________________________\n",
            "bert (BertModelLayer)        (None, 319, 768)          108890112 \n",
            "_________________________________________________________________\n",
            "lambda (Lambda)              (None, 768)               0         \n",
            "_________________________________________________________________\n",
            "dropout (Dropout)            (None, 768)               0         \n",
            "_________________________________________________________________\n",
            "dense (Dense)                (None, 2)                 1538      \n",
            "=================================================================\n",
            "Total params: 108,891,650\n",
            "Trainable params: 108,891,650\n",
            "Non-trainable params: 0\n",
            "_________________________________________________________________\n"
          ],
          "name": "stdout"
        }
      ]
    },
    {
      "cell_type": "code",
      "metadata": {
        "id": "XzJ7vfkM0A1d",
        "colab": {
          "base_uri": "https://localhost:8080/",
          "height": 199
        },
        "outputId": "f817f2e3-2b0b-4b5f-f642-8a48c16d4596"
      },
      "source": [
        "import datetime\n",
        "OUTPUT_DIR = '/bert_news'\n",
        "print('***** Model output directory: {} *****'.format(OUTPUT_DIR))\n",
        "\n",
        "log_dir = \".log/bert_news/\" + datetime.datetime.now().strftime(\"%Y%m%d-%H%M%s\")\n",
        "tensorboard_callback = keras.callbacks.TensorBoard(log_dir=log_dir)\n",
        "\n",
        "def model_fitting(max_epoch = 5, patience = 1):\n",
        "    \"\"\"\n",
        "    Function to fit the model to training set. Validation set are used to find the optimal training epochs.\n",
        "    Model will stop training when validation accuracy don't improve for a number of epochs. Then the model will restore weights to its best validation performance.\n",
        "\n",
        "    max_epoch: Maximum number of epochs to train\n",
        "    patience: Number of non-improving epochs before model stops\n",
        "    \"\"\"\n",
        "  \n",
        "    model.fit(x=data.train_x, y=data.train_y,\n",
        "              validation_data = (data.val_x,data.val_y),\n",
        "              batch_size=16,\n",
        "              shuffle=True,\n",
        "              epochs=max_epoch,\n",
        "              callbacks=[keras.callbacks.EarlyStopping(patience=patience, restore_best_weights=True),\n",
        "                        tensorboard_callback])\n",
        "    return model\n",
        "\n",
        "model = model_fitting(max_epoch = 5, patience = 1)\n",
        "# Save the optimal weights for future usage\n",
        "model.save_weights('bert_news.h5', overwrite=True)"
      ],
      "execution_count": null,
      "outputs": [
        {
          "output_type": "stream",
          "text": [
            "***** Model output directory: /bert_news *****\n",
            "Epoch 1/5\n",
            "352/352 [==============================] - 543s 2s/step - loss: 0.5591 - acc: 0.7315 - val_loss: 0.3903 - val_acc: 0.9188\n",
            "Epoch 2/5\n",
            "352/352 [==============================] - 544s 2s/step - loss: 0.4074 - acc: 0.9018 - val_loss: 0.3747 - val_acc: 0.9349\n",
            "Epoch 3/5\n",
            "352/352 [==============================] - 539s 2s/step - loss: 0.3818 - acc: 0.9295 - val_loss: 0.3578 - val_acc: 0.9540\n",
            "Epoch 4/5\n",
            "352/352 [==============================] - 541s 2s/step - loss: 0.3611 - acc: 0.9516 - val_loss: 0.3638 - val_acc: 0.9487\n"
          ],
          "name": "stdout"
        }
      ]
    },
    {
      "cell_type": "code",
      "metadata": {
        "id": "fCKfo2tBk8Hj",
        "colab": {
          "base_uri": "https://localhost:8080/",
          "height": 17
        },
        "outputId": "bdc18809-1a0b-429f-f198-76b60c1a73a3"
      },
      "source": [
        "# Download the model checkpoint \n",
        "# OPTIONAL STEP - if we want to use them for prediction somewhere\n",
        "from google.colab import files\n",
        "files.download('bert_news.h5') "
      ],
      "execution_count": null,
      "outputs": [
        {
          "output_type": "display_data",
          "data": {
            "application/javascript": [
              "\n",
              "    async function download(id, filename, size) {\n",
              "      if (!google.colab.kernel.accessAllowed) {\n",
              "        return;\n",
              "      }\n",
              "      const div = document.createElement('div');\n",
              "      const label = document.createElement('label');\n",
              "      label.textContent = `Downloading \"${filename}\": `;\n",
              "      div.appendChild(label);\n",
              "      const progress = document.createElement('progress');\n",
              "      progress.max = size;\n",
              "      div.appendChild(progress);\n",
              "      document.body.appendChild(div);\n",
              "\n",
              "      const buffers = [];\n",
              "      let downloaded = 0;\n",
              "\n",
              "      const channel = await google.colab.kernel.comms.open(id);\n",
              "      // Send a message to notify the kernel that we're ready.\n",
              "      channel.send({})\n",
              "\n",
              "      for await (const message of channel.messages) {\n",
              "        // Send a message to notify the kernel that we're ready.\n",
              "        channel.send({})\n",
              "        if (message.buffers) {\n",
              "          for (const buffer of message.buffers) {\n",
              "            buffers.push(buffer);\n",
              "            downloaded += buffer.byteLength;\n",
              "            progress.value = downloaded;\n",
              "          }\n",
              "        }\n",
              "      }\n",
              "      const blob = new Blob(buffers, {type: 'application/binary'});\n",
              "      const a = document.createElement('a');\n",
              "      a.href = window.URL.createObjectURL(blob);\n",
              "      a.download = filename;\n",
              "      div.appendChild(a);\n",
              "      a.click();\n",
              "      div.remove();\n",
              "    }\n",
              "  "
            ],
            "text/plain": [
              "<IPython.core.display.Javascript object>"
            ]
          },
          "metadata": {
            "tags": []
          }
        },
        {
          "output_type": "display_data",
          "data": {
            "application/javascript": [
              "download(\"download_9d136e33-9c7e-4978-9d28-ba6f4fba5560\", \"bert_news.h5\", 435813864)"
            ],
            "text/plain": [
              "<IPython.core.display.Javascript object>"
            ]
          },
          "metadata": {
            "tags": []
          }
        }
      ]
    },
    {
      "cell_type": "code",
      "metadata": {
        "id": "7C8Xv29OH8qu",
        "colab": {
          "base_uri": "https://localhost:8080/",
          "height": 161
        },
        "outputId": "18bfaeee-d2dc-4355-e310-85acf904c033"
      },
      "source": [
        "%%time \n",
        "# model = create_model(max_seq_len = data.max_seq_len, lr = 1e-5)\n",
        "model.load_weights(\"bert_news.h5\")\n",
        "\n",
        "_, train_acc = model.evaluate(data.train_x, data.train_y)\n",
        "_, val_acc = model.evaluate(data.val_x, data.val_y)\n",
        "_, test_acc = model.evaluate(data.test_x, data.test_y)\n",
        "\n",
        "print(\"train acc: \", train_acc)\n",
        "print(\"validation acc: \", val_acc)\n",
        "print(\"test acc: \", test_acc)"
      ],
      "execution_count": null,
      "outputs": [
        {
          "output_type": "stream",
          "text": [
            "176/176 [==============================] - 147s 837ms/step - loss: 0.3516 - acc: 0.9596\n",
            "41/41 [==============================] - 34s 835ms/step - loss: 0.3578 - acc: 0.9540\n",
            "49/49 [==============================] - 41s 827ms/step - loss: 0.3658 - acc: 0.9439\n",
            "train acc:  0.9596157073974609\n",
            "validation acc:  0.954023003578186\n",
            "test acc:  0.9438775777816772\n",
            "CPU times: user 46.6 s, sys: 25.2 s, total: 1min 11s\n",
            "Wall time: 3min 46s\n"
          ],
          "name": "stdout"
        }
      ]
    },
    {
      "cell_type": "code",
      "metadata": {
        "id": "Ec-RNQqXkKwS",
        "colab": {
          "base_uri": "https://localhost:8080/",
          "height": 385
        },
        "outputId": "16b1336b-8f1e-474e-9198-b38a380359ac"
      },
      "source": [
        "from sklearn.metrics import roc_curve, auc, accuracy_score, precision_score, recall_score, f1_score\n",
        "# model = create_model(max_seq_len = data.max_seq_len, lr = 1e-5)\n",
        "model.load_weights(\"bert_news.h5\")\n",
        "\n",
        "# predict on test set\n",
        "predictions = model.predict(data.test_x)\n",
        "predictions = predictions[:,1]\n",
        "test_df['pred'] = predictions\n",
        "# average the prediction to become final prediction of original test set\n",
        "test['avg_pred'] = test_df.groupby(['index'])['pred'].mean()\n",
        "\n",
        "# plot ROC curve\n",
        "fpr, tpr, _ = roc_curve(test['label'], test['avg_pred'])\n",
        "roc_auc = auc(fpr, tpr)\n",
        "\n",
        "fig = plt.figure()\n",
        "lw = 2\n",
        "plt.plot(fpr, tpr, color='darkorange', lw=lw, label='ROC curve (auc = %0.2f)' % roc_auc)\n",
        "plt.plot([0, 1], [0, 1], color='navy', lw=lw, linestyle='--')\n",
        "plt.xlim([0.0, 1.0])\n",
        "plt.ylim([0.0, 1.05])\n",
        "plt.xlabel('False Positive Rate')\n",
        "plt.ylabel('True Positive Rate')\n",
        "plt.title('Receiver operating characteristic for original test set')\n",
        "plt.legend(loc=\"lower right\")\n",
        "plt.show()\n",
        "\n",
        "acc = accuracy_score(test['label'], test['avg_pred'] > 0.5)\n",
        "precision = precision_score(test['label'], test['avg_pred'] > 0.5)\n",
        "recall = recall_score(test['label'], test['avg_pred'] > 0.5)\n",
        "f1 = f1_score(test['label'], test['avg_pred']  > 0.5)\n",
        "\n",
        "print('Orignal test accuracy is ', acc)\n",
        "print('Orignal test auc is ', roc_auc)\n",
        "print('Orignal test precision is ', precision)\n",
        "print('Orignal test recall is ', recall)\n",
        "print('Orignal test f1 score is ', f1)"
      ],
      "execution_count": null,
      "outputs": [
        {
          "output_type": "display_data",
          "data": {
            "image/png": "[encoded data removed]",
            "text/plain": [
              "<Figure size 432x288 with 1 Axes>"
            ]
          },
          "metadata": {
            "tags": [],
            "needs_background": "light"
          }
        },
        {
          "output_type": "stream",
          "text": [
            "Orignal test accuracy is  0.9725\n",
            "Orignal test auc is  0.99285\n",
            "Orignal test precision is  0.9655172413793104\n",
            "Orignal test recall is  0.98\n",
            "Orignal test f1 score is  0.9727047146401985\n"
          ],
          "name": "stdout"
        }
      ]
    },
    {
      "cell_type": "code",
      "metadata": {
        "id": "Ir4M2_ogPfzQ"
      },
      "source": [
        "# As per the steps above :)\n",
        "\n",
        "SAVED_MODEL_PATH  = \"bert_news.h5\""
      ],
      "execution_count": null,
      "outputs": []
    },
    {
      "cell_type": "code",
      "metadata": {
        "id": "vROxi4rUilim",
        "colab": {
          "base_uri": "https://localhost:8080/",
          "height": 595
        },
        "outputId": "f5cbdb0f-8249-474a-d27b-70f43f791989"
      },
      "source": [
        "# create model and load previous weights\n",
        "model = create_model(max_seq_len = data.max_seq_len)\n",
        "model.load_weights(SAVED_MODEL_PATH)\n"
      ],
      "execution_count": null,
      "outputs": [
        {
          "output_type": "stream",
          "text": [
            "bert shape (None, 319, 768)\n",
            "Done loading 196 BERT weights from: .model/uncased_L-12_H-768_A-12/bert_model.ckpt into <bert.model.BertModelLayer object at 0x7f6a2a9bf9e8> (prefix:bert_5). Count of weights not found in the checkpoint was: [0]. Count of weights with mismatched shape: [0]\n",
            "Unused weights from checkpoint: \n",
            "\tbert/embeddings/token_type_embeddings\n",
            "\tbert/pooler/dense/bias\n",
            "\tbert/pooler/dense/kernel\n",
            "\tcls/predictions/output_bias\n",
            "\tcls/predictions/transform/LayerNorm/beta\n",
            "\tcls/predictions/transform/LayerNorm/gamma\n",
            "\tcls/predictions/transform/dense/bias\n",
            "\tcls/predictions/transform/dense/kernel\n",
            "\tcls/seq_relationship/output_bias\n",
            "\tcls/seq_relationship/output_weights\n",
            "Model: \"model_5\"\n",
            "_________________________________________________________________\n",
            "Layer (type)                 Output Shape              Param #   \n",
            "=================================================================\n",
            "input_ids (InputLayer)       [(None, 319)]             0         \n",
            "_________________________________________________________________\n",
            "bert (BertModelLayer)        (None, 319, 768)          108890112 \n",
            "_________________________________________________________________\n",
            "lambda_5 (Lambda)            (None, 768)               0         \n",
            "_________________________________________________________________\n",
            "dropout_5 (Dropout)          (None, 768)               0         \n",
            "_________________________________________________________________\n",
            "dense_5 (Dense)              (None, 2)                 1538      \n",
            "=================================================================\n",
            "Total params: 108,891,650\n",
            "Trainable params: 108,891,650\n",
            "Non-trainable params: 0\n",
            "_________________________________________________________________\n"
          ],
          "name": "stdout"
        }
      ]
    },
    {
      "cell_type": "code",
      "metadata": {
        "id": "xMKXM7pNIo-v"
      },
      "source": [
        "def predict_new(doc, model):\n",
        "    \"\"\"\n",
        "    Predict new document using the trained model. \n",
        "\n",
        "    doc: input document in format of a string\n",
        "    \"\"\"\n",
        "\n",
        "    # clean the text\n",
        "    doc = clean_txt(doc)\n",
        "    # split the string text into list of subtexts\n",
        "    doc = get_split(doc)\n",
        "    # tokenize the subtexts as well as padding \n",
        "    tokenizer = FullTokenizer(vocab_file=os.path.join(bert_ckpt_dir, \"vocab.txt\"))\n",
        "    pred_tokens = map(tokenizer.tokenize, doc)\n",
        "    pred_tokens = map(lambda tok: [\"[CLS]\"] + tok + [\"[SEP]\"], pred_tokens)\n",
        "    pred_token_ids = list(map(tokenizer.convert_tokens_to_ids, pred_tokens))\n",
        "    pred_token_ids = map(lambda tids: tids +[0]*(data.max_seq_len-len(tids)),pred_token_ids)\n",
        "    pred_token_ids = np.array(list(pred_token_ids))\n",
        "    \n",
        "    # create model and load previous weights\n",
        "    # model = create_model(max_seq_len = data.max_seq_len)\n",
        "    # model.load_weights()\n",
        "\n",
        "    # predict the subtexts and average the prediction\n",
        "    predictions = model.predict(pred_token_ids)\n",
        "    predictions = predictions[:,1]\n",
        "    avg_pred = predictions.mean()\n",
        "    if avg_pred > 0.5:\n",
        "      doc_label = 'fake'\n",
        "    else:\n",
        "      doc_label = 'Real'\n",
        "\n",
        "    return doc_label, avg_pred\n",
        "\n"
      ],
      "execution_count": null,
      "outputs": []
    },
    {
      "cell_type": "code",
      "metadata": {
        "id": "xavZgYjF1yz9",
        "colab": {
          "base_uri": "https://localhost:8080/",
          "height": 253
        },
        "outputId": "ef240c77-b02f-4984-bbef-af2294bfe028"
      },
      "source": [
        "# Run an example text from original test set\n",
        "fake_test = load_convert_data(\"https://storage.googleapis.com/public-resources/dataset/fake_test.json\")\n",
        "doc = fake_test['text'][7]\n",
        "print('----------------------NEWS -----------------------')\n",
        "print(doc)\n",
        "doc_label, avg_pred = predict_new(doc, model)\n",
        "print()\n",
        "print('---------------- PREDICTION RESULTS --------------')\n",
        "print('The predicted probability of news being FAKE is ', avg_pred)\n",
        "print('CLASSIFICATION : The predicted label of news is ', doc_label.upper())"
      ],
      "execution_count": null,
      "outputs": [
        {
          "output_type": "stream",
          "text": [
            "----------------------NEWS -----------------------\n",
            "Elena Malysheva, the famous Russian presenter and presenter, has shed some nutrients that can boost the body's immunity to fight infection with the Corona virus.\n",
            "World - Europe\n",
            "During one of her televised medical programs, Malysheva said: \"Food products that contain large amounts of zinc are necessary to activate the so-called killer cells in the body. These cells, according to doctor Andre Prodius, are tasked with killing other cells infected with the virus.\"\n",
            "The doctor indicated that a person can get this important component from different foods such as shellfish, oats and corn flakes.\n",
            "According to Malysheva, the elderly with diabetes are among the most at risk of corona, due to the symptoms that may cause zinc deficiency in their bodies, which may affect the work of their immune system.\n",
            "The doctor advised those suffering from cardiovascular diseases and cancer patients to add the Brazilian nuts to their diet as it contains selenium, which is considered an anti-oxidant and an important component to strengthen the immune system.\n",
            "She also stressed the need to drink more water, especially for the elderly, and she explained that dehydration and lack of fluids helps increase the concentration of viruses and germs in the body.\n",
            "\n",
            "---------------- PREDICTION RESULTS --------------\n",
            "The predicted probability of news being FAKE is  0.9999819\n",
            "CLASSIFICATION : The predicted label of news is  FAKE\n"
          ],
          "name": "stdout"
        }
      ]
    }
  ]
}